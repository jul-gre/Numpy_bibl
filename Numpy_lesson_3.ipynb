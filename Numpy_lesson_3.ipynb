{
  "nbformat": 4,
  "nbformat_minor": 0,
  "metadata": {
    "colab": {
      "name": "Numpy_lesson_3.ipynb",
      "provenance": []
    },
    "kernelspec": {
      "name": "python3",
      "display_name": "Python 3"
    },
    "language_info": {
      "name": "python"
    }
  },
  "cells": [
    {
      "cell_type": "markdown",
      "source": [
        "###Задание 1\n"
      ],
      "metadata": {
        "id": "FickWLywLadD"
      }
    },
    {
      "cell_type": "code",
      "execution_count": 5,
      "metadata": {
        "id": "HV2oySR2cQV3"
      },
      "outputs": [],
      "source": [
        "import numpy as np\n",
        "import pandas as pd\n",
        "import matplotlib.pyplot as plt\n",
        "%matplotlib inline"
      ]
    },
    {
      "cell_type": "code",
      "source": [
        "x = [1, 2, 3, 4, 5, 6, 7]\n",
        "y = [3.5, 3.8, 4.2, 4.5, 5, 5.5, 7]"
      ],
      "metadata": {
        "id": "3ctdWDn4L6Fi"
      },
      "execution_count": 4,
      "outputs": []
    },
    {
      "cell_type": "code",
      "source": [
        "plt.scatter(x,y)\n",
        "plt.show()"
      ],
      "metadata": {
        "colab": {
          "base_uri": "https://localhost:8080/",
          "height": 265
        },
        "id": "X3sE9niGMyuW",
        "outputId": "e1d138c9-6ca2-49c5-feef-114bf8886040"
      },
      "execution_count": 9,
      "outputs": [
        {
          "output_type": "display_data",
          "data": {
            "text/plain": [
              "<Figure size 432x288 with 1 Axes>"
            ],
            "image/png": "[encoded data removed]"
          },
          "metadata": {
            "needs_background": "light"
          }
        }
      ]
    },
    {
      "cell_type": "code",
      "source": [
        "plt.plot(x,y)\n",
        "plt.show()"
      ],
      "metadata": {
        "colab": {
          "base_uri": "https://localhost:8080/",
          "height": 265
        },
        "id": "FHPCJ2PeOJz7",
        "outputId": "91be98f9-3028-41c5-f28b-fdb3d30b99ab"
      },
      "execution_count": 10,
      "outputs": [
        {
          "output_type": "display_data",
          "data": {
            "text/plain": [
              "<Figure size 432x288 with 1 Axes>"
            ],
            "image/png": "[encoded data removed]"
          },
          "metadata": {
            "needs_background": "light"
          }
        }
      ]
    },
    {
      "cell_type": "markdown",
      "source": [
        "### Задание 2\n"
      ],
      "metadata": {
        "id": "0PE3PJlUOPAZ"
      }
    },
    {
      "cell_type": "code",
      "source": [
        "t = np.linspace(0,10,51)\n",
        "t"
      ],
      "metadata": {
        "colab": {
          "base_uri": "https://localhost:8080/"
        },
        "id": "LvG6EuBPO0JZ",
        "outputId": "762a657d-bed4-482e-d90c-0ba6e1fe142e"
      },
      "execution_count": 16,
      "outputs": [
        {
          "output_type": "execute_result",
          "data": {
            "text/plain": [
              "array([ 0. ,  0.2,  0.4,  0.6,  0.8,  1. ,  1.2,  1.4,  1.6,  1.8,  2. ,\n",
              "        2.2,  2.4,  2.6,  2.8,  3. ,  3.2,  3.4,  3.6,  3.8,  4. ,  4.2,\n",
              "        4.4,  4.6,  4.8,  5. ,  5.2,  5.4,  5.6,  5.8,  6. ,  6.2,  6.4,\n",
              "        6.6,  6.8,  7. ,  7.2,  7.4,  7.6,  7.8,  8. ,  8.2,  8.4,  8.6,\n",
              "        8.8,  9. ,  9.2,  9.4,  9.6,  9.8, 10. ])"
            ]
          },
          "metadata": {},
          "execution_count": 16
        }
      ]
    },
    {
      "cell_type": "code",
      "source": [
        "f = np.cos(t)\n",
        "f"
      ],
      "metadata": {
        "colab": {
          "base_uri": "https://localhost:8080/"
        },
        "id": "qVqNLY9OPrUt",
        "outputId": "4400dd35-6010-4867-e566-6e8518c94223"
      },
      "execution_count": 17,
      "outputs": [
        {
          "output_type": "execute_result",
          "data": {
            "text/plain": [
              "array([ 1.        ,  0.98006658,  0.92106099,  0.82533561,  0.69670671,\n",
              "        0.54030231,  0.36235775,  0.16996714, -0.02919952, -0.22720209,\n",
              "       -0.41614684, -0.58850112, -0.73739372, -0.85688875, -0.94222234,\n",
              "       -0.9899925 , -0.99829478, -0.96679819, -0.89675842, -0.79096771,\n",
              "       -0.65364362, -0.49026082, -0.30733287, -0.11215253,  0.08749898,\n",
              "        0.28366219,  0.46851667,  0.63469288,  0.77556588,  0.88551952,\n",
              "        0.96017029,  0.9965421 ,  0.99318492,  0.95023259,  0.86939749,\n",
              "        0.75390225,  0.60835131,  0.43854733,  0.25125984,  0.05395542,\n",
              "       -0.14550003, -0.33915486, -0.51928865, -0.67872005, -0.81109301,\n",
              "       -0.91113026, -0.97484362, -0.99969304, -0.98468786, -0.93042627,\n",
              "       -0.83907153])"
            ]
          },
          "metadata": {},
          "execution_count": 17
        }
      ]
    },
    {
      "cell_type": "code",
      "source": [
        "plt.plot(t,f,color = 'g')\n",
        "plt.title('График f(t)')\n",
        "plt.xlabel('Значения t')\n",
        "plt.ylabel('Значения f')\n",
        "plt.axis([0.5, 9.5, -2.5, 2.5])\n",
        "plt.show"
      ],
      "metadata": {
        "colab": {
          "base_uri": "https://localhost:8080/",
          "height": 297
        },
        "id": "_BwS1gfcOTkM",
        "outputId": "9f8fa2c8-3b03-4da3-80dc-917e7271d41a"
      },
      "execution_count": 24,
      "outputs": [
        {
          "output_type": "execute_result",
          "data": {
            "text/plain": [
              "<function matplotlib.pyplot.show>"
            ]
          },
          "metadata": {},
          "execution_count": 24
        },
        {
          "output_type": "display_data",
          "data": {
            "text/plain": [
              "<Figure size 432x288 with 1 Axes>"
            ],
            "image/png": "[encoded data removed]"
          },
          "metadata": {
            "needs_background": "light"
          }
        }
      ]
    },
    {
      "cell_type": "markdown",
      "source": [
        "###Задание 3"
      ],
      "metadata": {
        "id": "vp5M7lFcQpLT"
      }
    },
    {
      "cell_type": "code",
      "source": [
        "x1 = np.linspace(-3,3,51)\n",
        "x1"
      ],
      "metadata": {
        "colab": {
          "base_uri": "https://localhost:8080/"
        },
        "id": "zkbQcaewQrfa",
        "outputId": "1bcf68b2-1d8b-4c6e-9ffe-af230f17bb5d"
      },
      "execution_count": 40,
      "outputs": [
        {
          "output_type": "execute_result",
          "data": {
            "text/plain": [
              "array([-3.  , -2.88, -2.76, -2.64, -2.52, -2.4 , -2.28, -2.16, -2.04,\n",
              "       -1.92, -1.8 , -1.68, -1.56, -1.44, -1.32, -1.2 , -1.08, -0.96,\n",
              "       -0.84, -0.72, -0.6 , -0.48, -0.36, -0.24, -0.12,  0.  ,  0.12,\n",
              "        0.24,  0.36,  0.48,  0.6 ,  0.72,  0.84,  0.96,  1.08,  1.2 ,\n",
              "        1.32,  1.44,  1.56,  1.68,  1.8 ,  1.92,  2.04,  2.16,  2.28,\n",
              "        2.4 ,  2.52,  2.64,  2.76,  2.88,  3.  ])"
            ]
          },
          "metadata": {},
          "execution_count": 40
        }
      ]
    },
    {
      "cell_type": "code",
      "source": [
        "y1 = x1**2\n",
        "y1"
      ],
      "metadata": {
        "colab": {
          "base_uri": "https://localhost:8080/"
        },
        "id": "b5YajXJ4RkVR",
        "outputId": "d0e534c3-3c7c-40f0-8abb-9110b30af2d7"
      },
      "execution_count": 41,
      "outputs": [
        {
          "output_type": "execute_result",
          "data": {
            "text/plain": [
              "array([9.    , 8.2944, 7.6176, 6.9696, 6.3504, 5.76  , 5.1984, 4.6656,\n",
              "       4.1616, 3.6864, 3.24  , 2.8224, 2.4336, 2.0736, 1.7424, 1.44  ,\n",
              "       1.1664, 0.9216, 0.7056, 0.5184, 0.36  , 0.2304, 0.1296, 0.0576,\n",
              "       0.0144, 0.    , 0.0144, 0.0576, 0.1296, 0.2304, 0.36  , 0.5184,\n",
              "       0.7056, 0.9216, 1.1664, 1.44  , 1.7424, 2.0736, 2.4336, 2.8224,\n",
              "       3.24  , 3.6864, 4.1616, 4.6656, 5.1984, 5.76  , 6.3504, 6.9696,\n",
              "       7.6176, 8.2944, 9.    ])"
            ]
          },
          "metadata": {},
          "execution_count": 41
        }
      ]
    },
    {
      "cell_type": "code",
      "source": [
        "y2 = 2*x1+0.5\n",
        "y2"
      ],
      "metadata": {
        "colab": {
          "base_uri": "https://localhost:8080/"
        },
        "id": "i1xxxIxfR5L8",
        "outputId": "fc1ebcee-2735-449d-c106-b9c95150899e"
      },
      "execution_count": 42,
      "outputs": [
        {
          "output_type": "execute_result",
          "data": {
            "text/plain": [
              "array([-5.5 , -5.26, -5.02, -4.78, -4.54, -4.3 , -4.06, -3.82, -3.58,\n",
              "       -3.34, -3.1 , -2.86, -2.62, -2.38, -2.14, -1.9 , -1.66, -1.42,\n",
              "       -1.18, -0.94, -0.7 , -0.46, -0.22,  0.02,  0.26,  0.5 ,  0.74,\n",
              "        0.98,  1.22,  1.46,  1.7 ,  1.94,  2.18,  2.42,  2.66,  2.9 ,\n",
              "        3.14,  3.38,  3.62,  3.86,  4.1 ,  4.34,  4.58,  4.82,  5.06,\n",
              "        5.3 ,  5.54,  5.78,  6.02,  6.26,  6.5 ])"
            ]
          },
          "metadata": {},
          "execution_count": 42
        }
      ]
    },
    {
      "cell_type": "code",
      "source": [
        "y3 = -3*x1+0.5\n",
        "y3"
      ],
      "metadata": {
        "colab": {
          "base_uri": "https://localhost:8080/"
        },
        "id": "n218HlKFSNSp",
        "outputId": "58287fda-e047-4de5-8d6e-ce0fb856b113"
      },
      "execution_count": 43,
      "outputs": [
        {
          "output_type": "execute_result",
          "data": {
            "text/plain": [
              "array([ 9.5 ,  9.14,  8.78,  8.42,  8.06,  7.7 ,  7.34,  6.98,  6.62,\n",
              "        6.26,  5.9 ,  5.54,  5.18,  4.82,  4.46,  4.1 ,  3.74,  3.38,\n",
              "        3.02,  2.66,  2.3 ,  1.94,  1.58,  1.22,  0.86,  0.5 ,  0.14,\n",
              "       -0.22, -0.58, -0.94, -1.3 , -1.66, -2.02, -2.38, -2.74, -3.1 ,\n",
              "       -3.46, -3.82, -4.18, -4.54, -4.9 , -5.26, -5.62, -5.98, -6.34,\n",
              "       -6.7 , -7.06, -7.42, -7.78, -8.14, -8.5 ])"
            ]
          },
          "metadata": {},
          "execution_count": 43
        }
      ]
    },
    {
      "cell_type": "code",
      "source": [
        "y4 = np.sin(x1)\n",
        "y4"
      ],
      "metadata": {
        "colab": {
          "base_uri": "https://localhost:8080/"
        },
        "id": "1G_wQXC4SXMa",
        "outputId": "63cae13b-b4b8-4228-b229-158fde97ebf0"
      },
      "execution_count": 44,
      "outputs": [
        {
          "output_type": "execute_result",
          "data": {
            "text/plain": [
              "array([-0.14112001, -0.25861935, -0.37239904, -0.48082261, -0.58233065,\n",
              "       -0.67546318, -0.75888071, -0.83138346, -0.89192865, -0.93964547,\n",
              "       -0.97384763, -0.9940432 , -0.99994172, -0.99145835, -0.9687151 ,\n",
              "       -0.93203909, -0.88195781, -0.81919157, -0.74464312, -0.65938467,\n",
              "       -0.56464247, -0.46177918, -0.35227423, -0.23770263, -0.11971221,\n",
              "        0.        ,  0.11971221,  0.23770263,  0.35227423,  0.46177918,\n",
              "        0.56464247,  0.65938467,  0.74464312,  0.81919157,  0.88195781,\n",
              "        0.93203909,  0.9687151 ,  0.99145835,  0.99994172,  0.9940432 ,\n",
              "        0.97384763,  0.93964547,  0.89192865,  0.83138346,  0.75888071,\n",
              "        0.67546318,  0.58233065,  0.48082261,  0.37239904,  0.25861935,\n",
              "        0.14112001])"
            ]
          },
          "metadata": {},
          "execution_count": 44
        }
      ]
    },
    {
      "cell_type": "code",
      "source": [
        "fig, ax = plt.subplots(nrows=2, ncols=2)\n",
        "\n",
        "fig.set_size_inches(8, 6)\n",
        "fig.subplots_adjust(wspace=0.3, hspace=0.3)\n",
        "\n",
        "ax1, ax2, ax3, ax4 = ax.flatten()\n",
        "\n",
        "ax1.plot(x1, y1)\n",
        "ax1.set_xlim([-5, 5])\n",
        "ax1.set_title('График y1')\n",
        "\n",
        "ax2.plot(x1, y2)\n",
        "ax2.set_title('График y2')\n",
        "\n",
        "ax3.plot(x1, y3)\n",
        "ax3.set_title('График y3')\n",
        "\n",
        "ax4.plot(x1, y4)\n",
        "ax4.set_title('График y4')"
      ],
      "metadata": {
        "colab": {
          "base_uri": "https://localhost:8080/",
          "height": 408
        },
        "id": "uxnZdBggTL8O",
        "outputId": "95c27d01-0385-42c0-fb47-325b1eb0732f"
      },
      "execution_count": 45,
      "outputs": [
        {
          "output_type": "execute_result",
          "data": {
            "text/plain": [
              "Text(0.5, 1.0, 'График y4')"
            ]
          },
          "metadata": {},
          "execution_count": 45
        },
        {
          "output_type": "display_data",
          "data": {
            "text/plain": [
              "<Figure size 576x432 with 4 Axes>"
            ],
            "image/png": "[encoded data removed]"
          },
          "metadata": {
            "needs_background": "light"
          }
        }
      ]
    }
  ]
}